{
  "nbformat": 4,
  "nbformat_minor": 0,
  "metadata": {
    "colab": {
      "provenance": [],
      "authorship_tag": "ABX9TyPIMujt6FxMRwLo1v22sEq9",
      "include_colab_link": true
    },
    "kernelspec": {
      "name": "python3",
      "display_name": "Python 3"
    },
    "language_info": {
      "name": "python"
    }
  },
  "cells": [
    {
      "cell_type": "markdown",
      "metadata": {
        "id": "view-in-github",
        "colab_type": "text"
      },
      "source": [
        "<a href=\"https://colab.research.google.com/github/welingtongomes/Dataset-Mnist/blob/main/Mnist.ipynb\" target=\"_parent\"><img src=\"https://colab.research.google.com/assets/colab-badge.svg\" alt=\"Open In Colab\"/></a>"
      ]
    },
    {
      "cell_type": "code",
      "execution_count": null,
      "metadata": {
        "id": "52lqAj9w2_S1"
      },
      "outputs": [],
      "source": [
        "import numpy\n",
        "from matplotlib import pyplot as plt\n",
        "\n",
        "from keras.datasets import mnist\n",
        "from keras.models import Sequential\n",
        "from keras.layers import Dense, InputLayer\n",
        "from keras.layers import Dropout\n",
        "from keras.utils import np_utils\n",
        "\n",
        "\n",
        "\n"
      ]
    },
    {
      "cell_type": "code",
      "source": [
        "(X_train, y_train), (X_test, y_test) = mnist.load_data() #importa o dataset mnist da biblioteca Keras"
      ],
      "metadata": {
        "colab": {
          "base_uri": "https://localhost:8080/"
        },
        "id": "uiBlTVFI3Wgd",
        "outputId": "758e8e6c-888b-47d8-c0b3-c137f67a1633"
      },
      "execution_count": null,
      "outputs": [
        {
          "output_type": "stream",
          "name": "stdout",
          "text": [
            "Downloading data from https://storage.googleapis.com/tensorflow/tf-keras-datasets/mnist.npz\n",
            "11490434/11490434 [==============================] - 0s 0us/step\n"
          ]
        }
      ]
    },
    {
      "cell_type": "code",
      "source": [
        "first_image = X_train[1001] #obtem a imegem de treino no índice 1000\n",
        "\n",
        "\n",
        "#realiza a manipulação dos dados da imagem (transforma em float)\n",
        "first_image = numpy.array(first_image, dtype ='float')\n",
        "pixels = first_image.reshape((28,28))\n",
        "\n",
        "#exibe a imagem do vetor\n",
        "\n",
        "plt.imshow(pixels, cmap ='gray')\n",
        "plt.show()\n",
        "\n",
        "print(y_train[1000]) #imprime a classe da imagem de treino no índice 1000"
      ],
      "metadata": {
        "colab": {
          "base_uri": "https://localhost:8080/",
          "height": 447
        },
        "id": "HNA0VxT93oWV",
        "outputId": "c124c08f-26f3-4a6f-e3dd-0902dfb7963f"
      },
      "execution_count": null,
      "outputs": [
        {
          "output_type": "display_data",
          "data": {
            "text/plain": [
              "<Figure size 640x480 with 1 Axes>"
            ],
            "image/png": "[encoded data removed]"
          },
          "metadata": {}
        },
        {
          "output_type": "stream",
          "name": "stdout",
          "text": [
            "0\n"
          ]
        }
      ]
    },
    {
      "cell_type": "code",
      "source": [
        "num_pixels = X_train.shape[1] * X_train.shape[2] #calculando o total de pixels da imagem\n",
        "print (f'Total de Pixels:',num_pixels)\n",
        "\n",
        "#transformando os valores dos pixels para float32\n",
        "X_train2 = X_train.reshape(X_train.shape[0], num_pixels).astype('float32')\n",
        "X_test2 = X_test.reshape(X_test.shape[0], num_pixels).astype('float32')\n",
        "\n",
        "#normalizando os valores dos pixels entre 0 e 1 para ter um treinamento mais eficiente na rede\n",
        "\n",
        "X_train2 = X_train2 / 255\n",
        "X_test2 = X_test2 / 255\n",
        "\n",
        "\n",
        "\n",
        "\n",
        "\n"
      ],
      "metadata": {
        "colab": {
          "base_uri": "https://localhost:8080/"
        },
        "id": "OG0Awesg9k1Y",
        "outputId": "382bc8b3-6578-4a09-caa1-2ba2e83c84f7"
      },
      "execution_count": null,
      "outputs": [
        {
          "output_type": "stream",
          "name": "stdout",
          "text": [
            "Total de Pixels: 784\n"
          ]
        }
      ]
    },
    {
      "cell_type": "code",
      "source": [
        "#transforma a imagem em uma matriz de 0 e 1\n",
        "#***transforma o y utilizando o método do machine learning chamado one-hot-vector\n",
        "#***onde transforma o y em uma matriz apontando o número 1 sendo a classe a qual a imagem corresponde\n",
        "\n",
        "y_train_h = np_utils.to_categorical(y_train)\n",
        "y_test_h = np_utils.to_categorical(y_test)\n",
        "\n",
        "#obtem o número de classes do problema\n",
        "num_classes = y_test_h.shape[1]\n",
        "\n",
        "print(num_pixels)\n",
        "print(y_train[1001])\n",
        "print(y_train_h[1001])\n"
      ],
      "metadata": {
        "colab": {
          "base_uri": "https://localhost:8080/"
        },
        "id": "zj4hJQ0eUm2-",
        "outputId": "cf125c97-8fe8-4c57-f90c-9aa6dfc8c3ca"
      },
      "execution_count": null,
      "outputs": [
        {
          "output_type": "stream",
          "name": "stdout",
          "text": [
            "784\n",
            "7\n",
            "[0. 0. 0. 0. 0. 0. 0. 1. 0. 0.]\n"
          ]
        }
      ]
    },
    {
      "cell_type": "code",
      "source": [
        "#Cria um modelo do tipo sequencial\n",
        "model = Sequential()\n",
        "model.add(InputLayer(input_shape=num_pixels))\n",
        "model.add(Dense(1024, kernel_initializer='normal', activation='relu')) #cria a primeira camada da rede\n",
        "model.add(Dense(2048, kernel_initializer='normal', activation='relu')) #cria a segunda camada da rede\n",
        "model.add(Dense(num_classes, kernel_initializer='normal', activation='softmax')) #cria a camada de saída\n",
        "\n",
        "model.summary() #imprime informações sobre o modelo\n"
      ],
      "metadata": {
        "colab": {
          "base_uri": "https://localhost:8080/"
        },
        "id": "4G7zEJY3JFGY",
        "outputId": "1a4ec747-beeb-452e-ced0-d255a77447b6"
      },
      "execution_count": null,
      "outputs": [
        {
          "output_type": "stream",
          "name": "stdout",
          "text": [
            "Model: \"sequential\"\n",
            "_________________________________________________________________\n",
            " Layer (type)                Output Shape              Param #   \n",
            "=================================================================\n",
            " dense (Dense)               (None, 1024)              803840    \n",
            "                                                                 \n",
            " dense_1 (Dense)             (None, 2048)              2099200   \n",
            "                                                                 \n",
            " dense_2 (Dense)             (None, 10)                20490     \n",
            "                                                                 \n",
            "=================================================================\n",
            "Total params: 2,923,530\n",
            "Trainable params: 2,923,530\n",
            "Non-trainable params: 0\n",
            "_________________________________________________________________\n"
          ]
        }
      ]
    },
    {
      "cell_type": "code",
      "source": [
        "model.compile(loss='categorical_crossentropy', optimizer='adam', metrics=['accuracy']) # compila o modelo criado"
      ],
      "metadata": {
        "id": "LlLVX6tUXEsD"
      },
      "execution_count": null,
      "outputs": []
    },
    {
      "cell_type": "code",
      "source": [
        "result = model.fit(X_train2, y_train_h, validation_data=(X_test2, y_test_h), epochs=20, verbose=1, batch_size = 100) #executa o treinamento"
      ],
      "metadata": {
        "colab": {
          "base_uri": "https://localhost:8080/"
        },
        "id": "Rg-1DwtklMWL",
        "outputId": "637f0535-bd43-4c2d-fd08-4e295d4c8015"
      },
      "execution_count": null,
      "outputs": [
        {
          "output_type": "stream",
          "name": "stdout",
          "text": [
            "Epoch 1/20\n",
            "600/600 [==============================] - 56s 92ms/step - loss: 0.1814 - accuracy: 0.9444 - val_loss: 0.0843 - val_accuracy: 0.9728\n",
            "Epoch 2/20\n",
            "600/600 [==============================] - 51s 84ms/step - loss: 0.0697 - accuracy: 0.9784 - val_loss: 0.0896 - val_accuracy: 0.9715\n",
            "Epoch 3/20\n",
            "600/600 [==============================] - 52s 87ms/step - loss: 0.0475 - accuracy: 0.9842 - val_loss: 0.0715 - val_accuracy: 0.9784\n",
            "Epoch 4/20\n",
            "600/600 [==============================] - 59s 98ms/step - loss: 0.0339 - accuracy: 0.9891 - val_loss: 0.0690 - val_accuracy: 0.9811\n",
            "Epoch 5/20\n",
            "600/600 [==============================] - 51s 85ms/step - loss: 0.0280 - accuracy: 0.9905 - val_loss: 0.0828 - val_accuracy: 0.9797\n",
            "Epoch 6/20\n",
            "600/600 [==============================] - 52s 87ms/step - loss: 0.0254 - accuracy: 0.9916 - val_loss: 0.0892 - val_accuracy: 0.9775\n",
            "Epoch 7/20\n",
            "600/600 [==============================] - 51s 85ms/step - loss: 0.0227 - accuracy: 0.9928 - val_loss: 0.0779 - val_accuracy: 0.9817\n",
            "Epoch 8/20\n",
            "600/600 [==============================] - 53s 88ms/step - loss: 0.0224 - accuracy: 0.9931 - val_loss: 0.1190 - val_accuracy: 0.9725\n",
            "Epoch 9/20\n",
            "600/600 [==============================] - 51s 85ms/step - loss: 0.0155 - accuracy: 0.9951 - val_loss: 0.1002 - val_accuracy: 0.9780\n",
            "Epoch 10/20\n",
            "600/600 [==============================] - 51s 85ms/step - loss: 0.0160 - accuracy: 0.9945 - val_loss: 0.0832 - val_accuracy: 0.9836\n",
            "Epoch 11/20\n",
            "600/600 [==============================] - 51s 84ms/step - loss: 0.0124 - accuracy: 0.9963 - val_loss: 0.1005 - val_accuracy: 0.9794\n",
            "Epoch 12/20\n",
            "600/600 [==============================] - 47s 78ms/step - loss: 0.0182 - accuracy: 0.9947 - val_loss: 0.1065 - val_accuracy: 0.9775\n",
            "Epoch 13/20\n",
            "600/600 [==============================] - 49s 81ms/step - loss: 0.0168 - accuracy: 0.9952 - val_loss: 0.1011 - val_accuracy: 0.9804\n",
            "Epoch 14/20\n",
            "600/600 [==============================] - 50s 84ms/step - loss: 0.0116 - accuracy: 0.9969 - val_loss: 0.1254 - val_accuracy: 0.9765\n",
            "Epoch 15/20\n",
            "600/600 [==============================] - 49s 82ms/step - loss: 0.0115 - accuracy: 0.9965 - val_loss: 0.0909 - val_accuracy: 0.9831\n",
            "Epoch 16/20\n",
            "600/600 [==============================] - 49s 81ms/step - loss: 0.0098 - accuracy: 0.9973 - val_loss: 0.1091 - val_accuracy: 0.9811\n",
            "Epoch 17/20\n",
            "600/600 [==============================] - 49s 82ms/step - loss: 0.0138 - accuracy: 0.9960 - val_loss: 0.1045 - val_accuracy: 0.9829\n",
            "Epoch 18/20\n",
            "600/600 [==============================] - 51s 85ms/step - loss: 0.0133 - accuracy: 0.9965 - val_loss: 0.1263 - val_accuracy: 0.9787\n",
            "Epoch 19/20\n",
            "600/600 [==============================] - 49s 82ms/step - loss: 0.0119 - accuracy: 0.9967 - val_loss: 0.1139 - val_accuracy: 0.9810\n",
            "Epoch 20/20\n",
            "600/600 [==============================] - 49s 82ms/step - loss: 0.0087 - accuracy: 0.9977 - val_loss: 0.1141 - val_accuracy: 0.9813\n"
          ]
        }
      ]
    },
    {
      "cell_type": "code",
      "source": [
        "#Obtém a imagem número 1001\n",
        "\n",
        "x = X_train2[50]\n",
        "print(x.shape)\n",
        "x = numpy.expand_dims(x, axis=0)\n",
        "print(x.shape)\n",
        "\n",
        "# imprime a avaliação da amostra\n",
        "print(model.predict(x))\n",
        "print(numpy.argmax(model.predict(x)))"
      ],
      "metadata": {
        "colab": {
          "base_uri": "https://localhost:8080/"
        },
        "id": "2BhWtJvsrT67",
        "outputId": "18537273-f554-4ae8-e488-c84d48c5ee99"
      },
      "execution_count": null,
      "outputs": [
        {
          "output_type": "stream",
          "name": "stdout",
          "text": [
            "(784,)\n",
            "(1, 784)\n",
            "1/1 [==============================] - 0s 73ms/step\n",
            "[[8.5733687e-26 2.3267460e-23 1.2646560e-19 1.0000000e+00 1.8581075e-26\n",
            "  3.5399626e-19 1.9842362e-30 2.6259806e-22 5.7400902e-22 6.3865709e-17]]\n",
            "1/1 [==============================] - 0s 39ms/step\n",
            "3\n"
          ]
        }
      ]
    },
    {
      "cell_type": "code",
      "source": [
        "first_image = X_train[50] #obtem a imegem de treino no índice 50, conforme realizamos predição acima.\n",
        "\n",
        "\n",
        "#realiza a manipulação dos dados da imagem (transforma em float)\n",
        "first_image = numpy.array(first_image, dtype ='float')\n",
        "pixels = first_image.reshape((28,28))\n",
        "\n",
        "#exibe a imagem do vetor\n",
        "\n",
        "plt.imshow(pixels, cmap ='gray')\n",
        "plt.show()\n",
        "\n",
        "print(y_train[1000]) #imprime a classe da imagem de treino no índice 50, conforme realizamos predição acima."
      ],
      "metadata": {
        "colab": {
          "base_uri": "https://localhost:8080/"
        },
        "id": "n6Tdehn1tdDg",
        "outputId": "a5612f9c-61c5-4c32-e071-b313cd44abe8"
      },
      "execution_count": null,
      "outputs": [
        {
          "output_type": "display_data",
          "data": {
            "text/plain": [
              "<Figure size 640x480 with 1 Axes>"
            ],
            "image/png": "[encoded data removed]"
          },
          "metadata": {}
        },
        {
          "output_type": "stream",
          "name": "stdout",
          "text": [
            "0\n"
          ]
        }
      ]
    }
  ]
}